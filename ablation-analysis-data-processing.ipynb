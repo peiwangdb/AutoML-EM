{
 "cells": [
  {
   "cell_type": "code",
   "execution_count": 5,
   "metadata": {},
   "outputs": [
    {
     "name": "stderr",
     "output_type": "stream",
     "text": [
      "/home/peiwang/anaconda3/lib/python3.7/site-packages/pyparsing.py:3168: FutureWarning: Possible set intersection at position 3\n",
      "  self.re = re.compile(self.reString)\n"
     ]
    }
   ],
   "source": [
    "import pandas as pd\n",
    "import numpy as np\n",
    "\n",
    "from sklearn.metrics import f1_score as f1\n",
    "from sklearn.pipeline import Pipeline\n",
    "\n",
    "import autosklearn.classification\n",
    "import warnings\n",
    "warnings.simplefilter('ignore')"
   ]
  },
  {
   "cell_type": "code",
   "execution_count": 6,
   "metadata": {},
   "outputs": [
    {
     "name": "stdout",
     "output_type": "stream",
     "text": [
      "data_7 training data size: 8193 test data size: 2049\n",
      "[WARNING] [2020-10-06 15:02:02,540:EnsembleBuilder(1):a619ef2c1fe74f7db94dc7cc716bf72b] No models better than random - using Dummy Score!\n",
      "[WARNING] [2020-10-06 15:02:02,550:EnsembleBuilder(1):a619ef2c1fe74f7db94dc7cc716bf72b] No models better than random - using Dummy Score!\n",
      "[WARNING] [2020-10-06 15:02:04,554:EnsembleBuilder(1):a619ef2c1fe74f7db94dc7cc716bf72b] No models better than random - using Dummy Score!\n",
      "random-forest-selected, training fscore: 0.9052102950408034 , test fscore:  0.7938931297709924\n",
      "[(1.000000, SimpleClassificationPipeline({'balancing:strategy': 'weighting', 'categorical_encoding:__choice__': 'one_hot_encoding', 'classifier:__choice__': 'random_forest', 'imputation:strategy': 'most_frequent', 'preprocessor:__choice__': 'select_percentile_classification', 'rescaling:__choice__': 'robust_scaler', 'categorical_encoding:one_hot_encoding:use_minimum_fraction': 'False', 'classifier:random_forest:bootstrap': 'True', 'classifier:random_forest:criterion': 'entropy', 'classifier:random_forest:max_depth': 'None', 'classifier:random_forest:max_features': 0.9904787816386996, 'classifier:random_forest:max_leaf_nodes': 'None', 'classifier:random_forest:min_impurity_decrease': 0.0, 'classifier:random_forest:min_samples_leaf': 2, 'classifier:random_forest:min_samples_split': 16, 'classifier:random_forest:min_weight_fraction_leaf': 0.0, 'classifier:random_forest:n_estimators': 100, 'preprocessor:select_percentile_classification:percentile': 26.14354686611395, 'preprocessor:select_percentile_classification:score_func': 'f_classif', 'rescaling:robust_scaler:q_max': 0.9197477692722489, 'rescaling:robust_scaler:q_min': 0.045709017685964706},\n",
      "dataset_properties={\n",
      "  'task': 1,\n",
      "  'sparse': False,\n",
      "  'multilabel': False,\n",
      "  'multiclass': False,\n",
      "  'target_type': 'classification',\n",
      "  'signed': False})),\n",
      "]\n",
      "auto-sklearn results:\n",
      "  Dataset name: a619ef2c1fe74f7db94dc7cc716bf72b\n",
      "  Metric: f1\n",
      "  Best validation score: 0.801061\n",
      "  Number of target algorithm runs: 182\n",
      "  Number of successful target algorithm runs: 169\n",
      "  Number of crashed target algorithm runs: 4\n",
      "  Number of target algorithms that exceeded the time limit: 4\n",
      "  Number of target algorithms that exceeded the memory limit: 5\n",
      "\n",
      "data_8 training data size: 7659 test data size: 1916\n",
      "[WARNING] [2020-10-06 16:01:57,341:EnsembleBuilder(1):fcf3cd40185117d08e556947af92a53e] No models better than random - using Dummy Score!\n",
      "[WARNING] [2020-10-06 16:01:57,351:EnsembleBuilder(1):fcf3cd40185117d08e556947af92a53e] No models better than random - using Dummy Score!\n",
      "[WARNING] [2020-10-06 16:01:59,355:EnsembleBuilder(1):fcf3cd40185117d08e556947af92a53e] No models better than random - using Dummy Score!\n",
      "random-forest-selected, training fscore: 0.8569807037457435 , test fscore:  0.5890736342042755\n",
      "[(1.000000, SimpleClassificationPipeline({'balancing:strategy': 'weighting', 'categorical_encoding:__choice__': 'one_hot_encoding', 'classifier:__choice__': 'random_forest', 'imputation:strategy': 'most_frequent', 'preprocessor:__choice__': 'liblinear_svc_preprocessor', 'rescaling:__choice__': 'quantile_transformer', 'categorical_encoding:one_hot_encoding:use_minimum_fraction': 'True', 'classifier:random_forest:bootstrap': 'False', 'classifier:random_forest:criterion': 'entropy', 'classifier:random_forest:max_depth': 'None', 'classifier:random_forest:max_features': 0.45888683298159416, 'classifier:random_forest:max_leaf_nodes': 'None', 'classifier:random_forest:min_impurity_decrease': 0.0, 'classifier:random_forest:min_samples_leaf': 1, 'classifier:random_forest:min_samples_split': 18, 'classifier:random_forest:min_weight_fraction_leaf': 0.0, 'classifier:random_forest:n_estimators': 100, 'preprocessor:liblinear_svc_preprocessor:C': 4126.794042156911, 'preprocessor:liblinear_svc_preprocessor:dual': 'False', 'preprocessor:liblinear_svc_preprocessor:fit_intercept': 'True', 'preprocessor:liblinear_svc_preprocessor:intercept_scaling': 1, 'preprocessor:liblinear_svc_preprocessor:loss': 'squared_hinge', 'preprocessor:liblinear_svc_preprocessor:multi_class': 'ovr', 'preprocessor:liblinear_svc_preprocessor:penalty': 'l1', 'preprocessor:liblinear_svc_preprocessor:tol': 0.0006464510005473522, 'rescaling:quantile_transformer:n_quantiles': 1237, 'rescaling:quantile_transformer:output_distribution': 'uniform', 'categorical_encoding:one_hot_encoding:minimum_fraction': 0.01264256614833227},\n",
      "dataset_properties={\n",
      "  'task': 1,\n",
      "  'sparse': False,\n",
      "  'multilabel': False,\n",
      "  'multiclass': False,\n",
      "  'target_type': 'classification',\n",
      "  'signed': False})),\n",
      "]\n",
      "auto-sklearn results:\n",
      "  Dataset name: fcf3cd40185117d08e556947af92a53e\n",
      "  Metric: f1\n",
      "  Best validation score: 0.633257\n",
      "  Number of target algorithm runs: 307\n",
      "  Number of successful target algorithm runs: 287\n",
      "  Number of crashed target algorithm runs: 9\n",
      "  Number of target algorithms that exceeded the time limit: 2\n",
      "  Number of target algorithms that exceeded the memory limit: 9\n",
      "\n"
     ]
    }
   ],
   "source": [
    "for i in range(7, 9):\n",
    "    for t in [3600]:\n",
    "        train_path = './02-feature-extract-ori/features/ft_' + str(i) + '_train.csv'\n",
    "        test_path = './02-feature-extract-ori/features/ft_' + str(i) + '_test.csv'\n",
    "        \n",
    "        df_train = pd.read_csv(train_path)\n",
    "        df_test = pd.read_csv(test_path)\n",
    "        \n",
    "        X_train = np.array(df_train.drop(['label'], axis=1).values.tolist())\n",
    "        y_train = np.array(df_train['label'].values.tolist())\n",
    "        X_test = np.array(df_test.drop(['label'], axis=1).values.tolist())\n",
    "        y_test = np.array(df_test['label'].values.tolist())\n",
    "        print(\"data_\" + str(i), \"training data size:\", len(y_train), \"test data size:\", len(y_test))\n",
    "        \n",
    "        automl = autosklearn.classification.AutoSklearnClassifier(\n",
    "            include_estimators=['random_forest'], \n",
    "            time_left_for_this_task=t, \n",
    "            initial_configurations_via_metalearning=0, \n",
    "            ensemble_nbest=1, ensemble_size=1, \n",
    "            resampling_strategy='holdout',\n",
    "            resampling_strategy_arguments={'train_size':0.75}\n",
    "        )\n",
    "        automl.fit(X_train, y_train, metric=autosklearn.metrics.f1)\n",
    "        print(\"random-forest-selected, training fscore:\", automl.score(X_train, y_train),  \", test fscore: \", automl.score(X_test, y_test))\n",
    "        print(automl.show_models())\n",
    "        print(automl.sprint_statistics())"
   ]
  },
  {
   "cell_type": "code",
   "execution_count": 2,
   "metadata": {},
   "outputs": [
    {
     "name": "stdout",
     "output_type": "stream",
     "text": [
      "data_1 training data size: 359 test data size: 91\n",
      "data_2 training data size: 757 test data size: 189\n",
      "data_3 training data size: 430 test data size: 109\n",
      "data_4 training data size: 9890 test data size: 2473\n",
      "data_5 training data size: 22965 test data size: 5742\n",
      "data_6 training data size: 9167 test data size: 2293\n",
      "data_7 training data size: 8193 test data size: 2049\n",
      "data_8 training data size: 7659 test data size: 1916\n"
     ]
    }
   ],
   "source": [
    "# validate if the data processing steps contributes to improvment (manual)\n",
    "\n",
    "X_train_list = []\n",
    "y_train_list = []\n",
    "X_test_list = []\n",
    "y_test_list = []\n",
    "\n",
    "for i in range(1, 9):\n",
    "    train_path = './02-feature-extract-ori/features/ft_' + str(i) + '_train.csv'\n",
    "    test_path = './02-feature-extract-ori/features/ft_' + str(i) + '_test.csv'\n",
    "    \n",
    "    df_train = pd.read_csv(train_path)\n",
    "    df_test = pd.read_csv(test_path)\n",
    "        \n",
    "    X_train = np.array(df_train.drop(['label'], axis=1).values.tolist())\n",
    "    y_train = np.array(df_train['label'].values.tolist())\n",
    "    X_test = np.array(df_test.drop(['label'], axis=1).values.tolist())\n",
    "    y_test = np.array(df_test['label'].values.tolist())\n",
    "    print(\"data_\" + str(i), \"training data size:\", len(y_train), \"test data size:\", len(y_test))\n",
    "    \n",
    "    X_train_list.append(X_train)\n",
    "    y_train_list.append(y_train)\n",
    "    X_test_list.append(X_test)\n",
    "    y_test_list.append(y_test)"
   ]
  },
  {
   "cell_type": "code",
   "execution_count": null,
   "metadata": {},
   "outputs": [],
   "source": [
    "# exp for dataset 1\n",
    "\n",
    "# random-forest-selected, training fscore: 0.9622641509433962 , test fscore:  0.8125000000000001\n",
    "# [(1.000000, SimpleClassificationPipeline({'balancing:strategy': 'none', 'categorical_encoding:__choice__': 'one_hot_encoding', 'classifier:__choice__': 'random_forest', 'imputation:strategy': 'median', 'preprocessor:__choice__': 'select_rates', 'rescaling:__choice__': 'robust_scaler', 'categorical_encoding:one_hot_encoding:use_minimum_fraction': 'True', 'classifier:random_forest:bootstrap': 'False', 'classifier:random_forest:criterion': 'gini', 'classifier:random_forest:max_depth': 'None', 'classifier:random_forest:max_features': 0.9353269112541961, 'classifier:random_forest:max_leaf_nodes': 'None', 'classifier:random_forest:min_impurity_decrease': 0.0, 'classifier:random_forest:min_samples_leaf': 3, 'classifier:random_forest:min_samples_split': 15, 'classifier:random_forest:min_weight_fraction_leaf': 0.0, 'classifier:random_forest:n_estimators': 100, 'preprocessor:select_rates:alpha': 0.3389866291265189, 'preprocessor:select_rates:mode': 'fdr', 'preprocessor:select_rates:score_func': 'chi2', 'rescaling:robust_scaler:q_max': 0.75, 'rescaling:robust_scaler:q_min': 0.25, 'categorical_encoding:one_hot_encoding:minimum_fraction': 0.14640208844635372},\n",
    "# dataset_properties={\n",
    "#   'task': 1,\n",
    "#   'sparse': False,\n",
    "#   'multilabel': False,\n",
    "#   'multiclass': False,\n",
    "#   'target_type': 'classification',\n",
    "#   'signed': False})),\n",
    "# ]\n",
    "\n",
    "X_train = X_train_list[1]\n",
    "y_train = y_train_list[1]\n",
    "X_test = X_test_list[1]\n",
    "y_test = y_test_list[1]\n",
    "\n",
    "pipe = Pipeline([('scaler', StandardScaler()), ('svc', SVC())])"
   ]
  },
  {
   "cell_type": "code",
   "execution_count": null,
   "metadata": {},
   "outputs": [],
   "source": [
    "from autosklearn.pipeline.classification import SimpleClassificationPipeline\n",
    "piepline = SimpleClassificationPipeline({'balancing:strategy': 'none', \n",
    "                              'categorical_encoding:__choice__': 'one_hot_encoding', \n",
    "                              'classifier:__choice__': 'random_forest', \n",
    "                              'imputation:strategy': 'median', \n",
    "                              'preprocessor:__choice__': 'select_rates', \n",
    "                              'rescaling:__choice__': 'robust_scaler', \n",
    "                              'categorical_encoding:one_hot_encoding:use_minimum_fraction': 'True', \n",
    "                              'classifier:random_forest:bootstrap': 'False', \n",
    "                              'classifier:random_forest:criterion': 'gini', \n",
    "                              'classifier:random_forest:max_depth': 'None', \n",
    "                              'classifier:random_forest:max_features': 0.9353269112541961, \n",
    "                              'classifier:random_forest:max_leaf_nodes': 'None', \n",
    "                              'classifier:random_forest:min_impurity_decrease': 0.0, \n",
    "                              'classifier:random_forest:min_samples_leaf': 3, \n",
    "                              'classifier:random_forest:min_samples_split': 15, \n",
    "                              'classifier:random_forest:min_weight_fraction_leaf': 0.0, \n",
    "                              'classifier:random_forest:n_estimators': 100, \n",
    "                              'preprocessor:select_rates:alpha': 0.3389866291265189, \n",
    "                              'preprocessor:select_rates:mode': 'fdr', \n",
    "                              'preprocessor:select_rates:score_func': 'chi2', \n",
    "                              'rescaling:robust_scaler:q_max': 0.75, \n",
    "                              'rescaling:robust_scaler:q_min': 0.25, \n",
    "                              'categorical_encoding:one_hot_encoding:minimum_fraction': 0.14640208844635372},"
   ]
  },
  {
   "cell_type": "code",
   "execution_count": null,
   "metadata": {},
   "outputs": [],
   "source": []
  },
  {
   "cell_type": "code",
   "execution_count": null,
   "metadata": {},
   "outputs": [],
   "source": []
  },
  {
   "cell_type": "code",
   "execution_count": null,
   "metadata": {},
   "outputs": [],
   "source": []
  },
  {
   "cell_type": "code",
   "execution_count": null,
   "metadata": {},
   "outputs": [],
   "source": []
  }
 ],
 "metadata": {
  "kernelspec": {
   "display_name": "Python 3",
   "language": "python",
   "name": "python3"
  },
  "language_info": {
   "codemirror_mode": {
    "name": "ipython",
    "version": 3
   },
   "file_extension": ".py",
   "mimetype": "text/x-python",
   "name": "python",
   "nbconvert_exporter": "python",
   "pygments_lexer": "ipython3",
   "version": "3.7.4"
  }
 },
 "nbformat": 4,
 "nbformat_minor": 2
}
