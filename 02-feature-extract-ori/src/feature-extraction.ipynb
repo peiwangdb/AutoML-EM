{
 "cells": [
  {
   "cell_type": "code",
   "execution_count": 21,
   "metadata": {},
   "outputs": [],
   "source": [
    "import pandas as pd\n",
    "import numpy as np\n",
    "from time import time\n",
    "\n",
    "pd.set_option('display.max_columns', None)"
   ]
  },
  {
   "cell_type": "code",
   "execution_count": 22,
   "metadata": {},
   "outputs": [],
   "source": [
    "import table_syn\n",
    "import tokenizer\n",
    "from data_type import get_type\n",
    "import feature as ft"
   ]
  },
  {
   "cell_type": "code",
   "execution_count": 23,
   "metadata": {},
   "outputs": [
    {
     "name": "stdout",
     "output_type": "stream",
     "text": [
      "The autoreload extension is already loaded. To reload it, use:\n",
      "  %reload_ext autoreload\n"
     ]
    }
   ],
   "source": [
    "%load_ext autoreload\n",
    "%autoreload 2"
   ]
  },
  {
   "cell_type": "code",
   "execution_count": 27,
   "metadata": {},
   "outputs": [],
   "source": [
    "path_dict = {}\n",
    "\n",
    "# easy and small: 1.BeerAdvo-RateBeer, 2.Fodors-Zagats, 3.iTunes-Amazon\n",
    "\n",
    "path_dict['A_1'] = '../../00-data-ori/data_structured/Beer/tableA.csv'\n",
    "path_dict['B_1'] = '../../00-data-ori/data_structured/Beer/tableB.csv'\n",
    "path_dict['train_1'] = '../../00-data-ori/data_structured/Beer/combined_train.csv'\n",
    "path_dict['test_1'] = '../../00-data-ori/data_structured/Beer/test.csv'\n",
    "\n",
    "path_dict['A_2'] = '../../00-data-ori/data_structured/Fodors-Zagats/tableA.csv'\n",
    "path_dict['B_2'] = '../../00-data-ori/data_structured/Fodors-Zagats/tableB.csv'\n",
    "path_dict['train_2'] = '../../00-data-ori/data_structured/Fodors-Zagats/combined_train.csv'\n",
    "path_dict['test_2'] = '../../00-data-ori/data_structured/Fodors-Zagats/test.csv'\n",
    "\n",
    "path_dict['A_3'] = '../../00-data-ori/data_structured/iTunes-Amazon/tableA.csv'\n",
    "path_dict['B_3'] = '../../00-data-ori/data_structured/iTunes-Amazon/tableB.csv'\n",
    "path_dict['train_3'] = '../../00-data-ori/data_structured/iTunes-Amazon/combined_train.csv'\n",
    "path_dict['test_3'] = '../../00-data-ori/data_structured/iTunes-Amazon/test.csv'\n",
    "\n",
    "\n",
    "# easy and large: 4.DBLP-ACM, 5.DBLP-Scholar\n",
    "\n",
    "path_dict['A_4'] = '../../00-data-ori/data_structured/DBLP-ACM/tableA.csv'\n",
    "path_dict['B_4'] = '../../00-data-ori/data_structured/DBLP-ACM/tableB.csv'\n",
    "path_dict['train_4'] = '../../00-data-ori/data_structured/DBLP-ACM/combined_train.csv'\n",
    "path_dict['test_4'] = '../../00-data-ori/data_structured/DBLP-ACM/test.csv'\n",
    "\n",
    "path_dict['A_5'] = '../../00-data-ori/data_structured/DBLP-GoogleScholar/tableA.csv'\n",
    "path_dict['B_5'] = '../../00-data-ori/data_structured/DBLP-GoogleScholar/tableB.csv'\n",
    "path_dict['train_5'] = '../../00-data-ori/data_structured/DBLP-GoogleScholar/combined_train.csv'\n",
    "path_dict['test_5'] = '../../00-data-ori/data_structured/DBLP-GoogleScholar/test.csv'\n",
    "\n",
    "\n",
    "# hard and large: 6.amazon-google, 7.walmart-amazon, 8.abt-buy\n",
    "\n",
    "path_dict['A_6'] = '../../00-data-ori/data_structured/Amazon-Google/tableA.csv'\n",
    "path_dict['B_6'] = '../../00-data-ori/data_structured/Amazon-Google/tableB.csv'\n",
    "path_dict['train_6'] = '../../00-data-ori/data_structured/Amazon-Google/combined_train.csv'\n",
    "path_dict['test_6'] = '../../00-data-ori/data_structured/Amazon-Google/test.csv'\n",
    "\n",
    "path_dict['A_7'] = '../../00-data-ori/data_structured/Walmart-Amazon/tableA.csv'\n",
    "path_dict['B_7'] = '../../00-data-ori/data_structured/Walmart-Amazon/tableB.csv'\n",
    "path_dict['train_7'] = '../../00-data-ori/data_structured/Walmart-Amazon/combined_train.csv'\n",
    "path_dict['test_7'] = '../../00-data-ori/data_structured/Walmart-Amazon/test.csv'\n",
    "\n",
    "path_dict['A_8'] = '../../00-data-ori/data_text/abt-buy/tableA.csv'\n",
    "path_dict['B_8'] = '../../00-data-ori/data_text/abt-buy/tableB.csv'\n",
    "path_dict['train_8'] = '../../00-data-ori/data_text/abt-buy/combined_train.csv'\n",
    "path_dict['test_8'] = '../../00-data-ori/data_text/abt-buy/test.csv'"
   ]
  },
  {
   "cell_type": "code",
   "execution_count": 28,
   "metadata": {},
   "outputs": [],
   "source": [
    "def ProduceFt(table):\n",
    "    attrs = table.columns.tolist()\n",
    "    attr_pair = []\n",
    "    for attr in attrs:\n",
    "        if 'ltable' in attr:\n",
    "            real_attr = attr.replace('ltable_', '')\n",
    "            if 'rtable_' + real_attr in attrs:\n",
    "                attr_pair.append((attr, 'rtable_' + real_attr))\n",
    "    header = ft.feature_header_init(table, attr_pair)\n",
    "    time_list = {}\n",
    "    df_feature_ori = ft.get_feature_beta(table, header, time_list)\n",
    "    return df_feature_ori"
   ]
  },
  {
   "cell_type": "code",
   "execution_count": 30,
   "metadata": {},
   "outputs": [
    {
     "name": "stdout",
     "output_type": "stream",
     "text": [
      "1 359 91 0.6176612377166748 3.29872989654541\n",
      "2 757 189 1.939847469329834 7.992325782775879\n",
      "3 430 109 1.4898018836975098 9.410834312438965\n",
      "4 9890 2473 16.69306206703186 116.48832702636719\n",
      "5 22965 5742 39.662219762802124 224.36657047271729\n",
      "6 9167 2293 11.864608764648438 60.772276163101196\n",
      "7 8193 2049 17.958117723464966 91.93986630439758\n",
      "8 7659 1916 9.952324628829956 151.96510124206543\n"
     ]
    }
   ],
   "source": [
    "for i in range(1,9):\n",
    "    data_A = pd.read_csv(path_dict['A_' + str(i)]).fillna(0)\n",
    "    data_B = pd.read_csv(path_dict['B_' + str(i)]).fillna(0)\n",
    "    data_train = pd.read_csv(path_dict['train_' + str(i)])\n",
    "    data_test = pd.read_csv(path_dict['test_' + str(i)])\n",
    " \n",
    "    start = time()\n",
    "    df_train = table_syn.ProduceTable(data_train, data_A, data_B)\n",
    "    df_test = table_syn.ProduceTable(data_test, data_A, data_B)\n",
    "    tb_time = time() - start\n",
    "    \n",
    "    start = time()\n",
    "    ft_train = ProduceFt(df_train)\n",
    "    ft_test = ProduceFt(df_test)\n",
    "    ft_time = time() - start\n",
    "    print(i, len(df_train), len(df_test), tb_time, ft_time)\n",
    "    \n",
    "    ft_train.to_csv('../features/ft_' + str(i) + '_train.csv')\n",
    "    ft_test.to_csv('../features/ft_' + str(i) + '_test.csv')"
   ]
  },
  {
   "cell_type": "code",
   "execution_count": null,
   "metadata": {},
   "outputs": [],
   "source": []
  }
 ],
 "metadata": {
  "kernelspec": {
   "display_name": "Python 3",
   "language": "python",
   "name": "python3"
  },
  "language_info": {
   "codemirror_mode": {
    "name": "ipython",
    "version": 3
   },
   "file_extension": ".py",
   "mimetype": "text/x-python",
   "name": "python",
   "nbconvert_exporter": "python",
   "pygments_lexer": "ipython3",
   "version": "3.7.4"
  }
 },
 "nbformat": 4,
 "nbformat_minor": 2
}
