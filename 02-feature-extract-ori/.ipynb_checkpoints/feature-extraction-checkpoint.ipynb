{
 "cells": [
  {
   "cell_type": "code",
   "execution_count": 1,
   "metadata": {},
   "outputs": [],
   "source": [
    "import pandas as pd\n",
    "import numpy as np\n",
    "from time import time"
   ]
  },
  {
   "cell_type": "code",
   "execution_count": 2,
   "metadata": {},
   "outputs": [],
   "source": [
    "from src import table_syn\n",
    "from src import tokenizer\n",
    "from src.data_type import get_type"
   ]
  },
  {
   "cell_type": "code",
   "execution_count": 3,
   "metadata": {},
   "outputs": [],
   "source": [
    "import src.feature\n",
    "import src.feature_gene"
   ]
  },
  {
   "cell_type": "code",
   "execution_count": 4,
   "metadata": {},
   "outputs": [],
   "source": [
    "%load_ext autoreload\n",
    "%autoreload 2"
   ]
  },
  {
   "cell_type": "code",
   "execution_count": 5,
   "metadata": {},
   "outputs": [],
   "source": [
    "# produce Walmart-Amazon dataset feature\n",
    "\n",
    "data_path_A = '../00-data-ori/data_structured/Walmart-Amazon/tableA.csv'\n",
    "data_path_B = '../00-data-ori/data_structured/Walmart-Amazon/tableB.csv'\n",
    "data_path_train = '../00-data-ori/data_structured/Walmart-Amazon/combined_train.csv'\n",
    "data_path_test = '../00-data-ori/data_structured/Walmart-Amazon/test.csv'"
   ]
  },
  {
   "cell_type": "code",
   "execution_count": 6,
   "metadata": {},
   "outputs": [],
   "source": [
    "data_A = pd.read_csv(data_path_A)\n",
    "data_B = pd.read_csv(data_path_B)\n",
    "data_train = pd.read_csv(data_path_train)\n",
    "data_test = pd.read_csv(data_path_test)"
   ]
  },
  {
   "cell_type": "code",
   "execution_count": null,
   "metadata": {},
   "outputs": [],
   "source": []
  }
 ],
 "metadata": {
  "kernelspec": {
   "display_name": "Python 3",
   "language": "python",
   "name": "python3"
  },
  "language_info": {
   "codemirror_mode": {
    "name": "ipython",
    "version": 3
   },
   "file_extension": ".py",
   "mimetype": "text/x-python",
   "name": "python",
   "nbconvert_exporter": "python",
   "pygments_lexer": "ipython3",
   "version": "3.7.4"
  }
 },
 "nbformat": 4,
 "nbformat_minor": 2
}
