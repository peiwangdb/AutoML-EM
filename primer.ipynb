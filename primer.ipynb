{
 "cells": [
  {
   "cell_type": "code",
   "execution_count": 184,
   "metadata": {},
   "outputs": [],
   "source": [
    "# show that enlarging ML search space potentially gives improved results\n",
    "\n",
    "import pandas as pd\n",
    "import numpy as np\n",
    "from sklearn.pipeline import Pipeline\n",
    "from sklearn.model_selection import train_test_split\n",
    "from sklearn.metrics import f1_score as f1\n",
    "from sklearn.ensemble import RandomForestClassifier\n",
    "from sklearn.preprocessing import RobustScaler\n",
    "from sklearn.feature_selection import SelectPercentile, chi2\n",
    "\n",
    "import warnings\n",
    "warnings.simplefilter('ignore')"
   ]
  },
  {
   "cell_type": "code",
   "execution_count": null,
   "metadata": {},
   "outputs": [],
   "source": [
    "\n",
    "\n"
   ]
  },
  {
   "cell_type": "code",
   "execution_count": 253,
   "metadata": {
    "scrolled": true
   },
   "outputs": [
    {
     "name": "stdout",
     "output_type": "stream",
     "text": [
      "data_6 training data size: 9167 test data size: 2293\n",
      "[95.77308120133482, 95.7683741648107, 95.71508069003895, 95.77308120133482, 95.71508069003895, 95.71508069003895, 95.77308120133482, 95.71508069003895, 95.71508069003895, 95.82637729549249, 95.71508069003895, 95.71508069003895, 95.71508069003895, 95.77308120133482, 95.71508069003895, 95.77308120133482, 95.71508069003895, 95.77308120133482, 95.71508069003895, 95.77308120133482, 95.71508069003895, 95.71508069003895, 95.71508069003895, 95.77308120133482, 95.77308120133482]\n",
      "[54.59459459459459, 54.74254742547425, 54.74254742547425, 55.525606469002696, 54.98652291105122, 54.74254742547425, 54.98652291105122, 54.74254742547425, 55.13513513513514, 55.525606469002696, 55.525606469002696, 55.13513513513514, 55.37634408602151, 54.98652291105122, 54.74254742547425, 55.13513513513514, 55.13513513513514, 55.37634408602151, 55.37634408602151, 55.76407506702412, 55.13513513513514, 55.525606469002696, 54.74254742547425, 54.74254742547425, 54.74254742547425]\n"
     ]
    }
   ],
   "source": [
    "# adding a data preprocessing component (scaling) \n",
    "\n",
    "i = 6\n",
    "train_path = './02-feature-extract-ori/features/ft_' + str(i) + '_train.csv'\n",
    "test_path = './02-feature-extract-ori/features/ft_' + str(i) + '_test.csv'\n",
    "df_train = pd.read_csv(train_path)\n",
    "df_test = pd.read_csv(test_path)\n",
    "        \n",
    "X_train = np.array(df_train.drop(['label'], axis=1).values.tolist())\n",
    "y_train = np.array(df_train['label'].values.tolist())\n",
    "X_test = np.array(df_test.drop(['label'], axis=1).values.tolist())\n",
    "y_test = np.array(df_test['label'].values.tolist())\n",
    "print(\"data_\" + str(i), \"training data size:\", len(y_train), \"test data size:\", len(y_test))\n",
    "\n",
    "cur_value = 0\n",
    "train_score = []\n",
    "test_score = []\n",
    "x = []\n",
    "while cur_value <= 50:\n",
    "    pipe = Pipeline([\n",
    "          ('scaler', RobustScaler(quantile_range = (cur_value, 100-cur_value))),\n",
    "          ('classification', RandomForestClassifier(random_state=11))\n",
    "        ])\n",
    "    \n",
    "    x.append(cur_value)\n",
    "    pipe.fit(X_train, y_train)\n",
    "    y_train_pred = pipe.predict(X_train)\n",
    "    y_test_pred = pipe.predict(X_test)\n",
    "    train_score.append(f1(y_train, y_train_pred) * 100)\n",
    "    test_score.append(f1(y_test, y_test_pred) * 100)\n",
    "    \n",
    "    cur_value += 2\n",
    "    \n",
    "\n",
    "print(train_score)\n",
    "print(test_score)"
   ]
  },
  {
   "cell_type": "code",
   "execution_count": 249,
   "metadata": {},
   "outputs": [
    {
     "name": "stdout",
     "output_type": "stream",
     "text": [
      "1.1694804724295338\n"
     ]
    }
   ],
   "source": [
    "sorted(test_score)\n",
    "print(((55.76407506702412 - 54.59459459459459)))"
   ]
  },
  {
   "cell_type": "code",
   "execution_count": 254,
   "metadata": {
    "scrolled": true
   },
   "outputs": [
    {
     "data": {
      "image/png": "[encoded data removed]",
      "text/plain": [
       "<Figure size 432x288 with 1 Axes>"
      ]
     },
     "metadata": {
      "needs_background": "light"
     },
     "output_type": "display_data"
    }
   ],
   "source": [
    "import matplotlib.pyplot as plt\n",
    "plt.plot(x, test_score)\n",
    "plt.ylabel('F1 Score on Test Data (%)')\n",
    "plt.xlabel('Scaling Range')\n",
    "plt.ylim([54, 56])\n",
    "plt.xticks([5, 10, 15, 20, 25, 30, 35, 40, 45])\n",
    "plt.yticks([54, 55, 56])\n",
    "plt.savefig('data.pdf')\n",
    "plt.show()"
   ]
  },
  {
   "cell_type": "code",
   "execution_count": 235,
   "metadata": {
    "scrolled": false
   },
   "outputs": [
    {
     "name": "stdout",
     "output_type": "stream",
     "text": [
      "data_8 training data size: 7659 test data size: 1916\n",
      "[89.83050847457628, 94.48319594166138, 94.59631277813097, 95.448798988622, 95.90422180214242, 95.49778059606848, 96.4824120603015, 96.53870358716173, 96.1006289308176, 96.1755485893417, 95.75680810639645, 96.80250783699059, 96.54305468258956, 96.47355163727958, 96.15626969124135, 96.22641509433963, 96.81050656660413, 96.5473948524796, 96.28229363579081, 96.21689785624211]\n",
      "[45.29411764705882, 48.80952380952381, 50.617283950617285, 53.53846153846153, 58.1039755351682, 59.2814371257485, 57.05521472392638, 54.20560747663552, 55.06329113924051, 57.14285714285715, 57.05521472392638, 52.06349206349207, 57.3170731707317, 52.5, 55.10835913312694, 54.93827160493827, 52.5, 51.28205128205128, 53.987730061349694, 52.5]\n"
     ]
    }
   ],
   "source": [
    "# adding a feature selection component\n",
    "\n",
    "i = 8\n",
    "train_path = './02-feature-extract-ori/features/ft_' + str(i) + '_train.csv'\n",
    "test_path = './02-feature-extract-ori/features/ft_' + str(i) + '_test.csv'\n",
    "df_train = pd.read_csv(train_path)\n",
    "df_test = pd.read_csv(test_path)\n",
    "        \n",
    "X_train = np.array(df_train.drop(['label'], axis=1).values.tolist())\n",
    "y_train = np.array(df_train['label'].values.tolist())\n",
    "X_test = np.array(df_test.drop(['label'], axis=1).values.tolist())\n",
    "y_test = np.array(df_test['label'].values.tolist())\n",
    "print(\"data_\" + str(i), \"training data size:\", len(y_train), \"test data size:\", len(y_test))\n",
    "\n",
    "# X_train_train, X_valid, y_train_train, y_valid = train_test_split(X_train, y_train, train_size = 0.75, random_state = 42)\n",
    "# print(len(X_train_train), len(X_valid), len(X_test))\n",
    "\n",
    "cur_per = 5\n",
    "train_score = []\n",
    "test_score = []\n",
    "x = []\n",
    "while cur_per <= 100:\n",
    "    pipe = Pipeline([\n",
    "          ('feature_selection', SelectPercentile(percentile=cur_per)),\n",
    "          ('classification', RandomForestClassifier(random_state=11))\n",
    "        ])\n",
    "    pipe.fit(X_train, y_train)\n",
    "\n",
    "    x.append(cur_per * 0.72)\n",
    "    y_train_pred = pipe.predict(X_train)\n",
    "    y_test_pred = pipe.predict(X_test)\n",
    "    train_score.append(f1(y_train, y_train_pred)*100)\n",
    "    test_score.append(f1(y_test, y_test_pred)*100)\n",
    "    \n",
    "    cur_per += 5\n",
    "\n",
    "print(train_score)\n",
    "print(test_score)"
   ]
  },
  {
   "cell_type": "code",
   "execution_count": 236,
   "metadata": {},
   "outputs": [
    {
     "data": {
      "text/plain": [
       "13.987319478689685"
      ]
     },
     "execution_count": 236,
     "metadata": {},
     "output_type": "execute_result"
    }
   ],
   "source": [
    " ((59.2814371257485 - 45.29411764705882))"
   ]
  },
  {
   "cell_type": "code",
   "execution_count": 237,
   "metadata": {},
   "outputs": [
    {
     "data": {
      "image/png": "[encoded data removed]",
      "text/plain": [
       "<Figure size 432x288 with 1 Axes>"
      ]
     },
     "metadata": {
      "needs_background": "light"
     },
     "output_type": "display_data"
    }
   ],
   "source": [
    "import matplotlib.pyplot as plt\n",
    "plt.plot(x, test_score)\n",
    "plt.yticks([45, 50, 55, 60])\n",
    "plt.ylabel('F1 Score on Test Data (%)')\n",
    "plt.xlabel('# of Selected Features')\n",
    "plt.savefig('feature.pdf')\n",
    "plt.show()"
   ]
  },
  {
   "cell_type": "code",
   "execution_count": 238,
   "metadata": {},
   "outputs": [
    {
     "name": "stdout",
     "output_type": "stream",
     "text": [
      "data_8 training data size: 7659 test data size: 1916\n",
      "[97.3175296319401, 97.06066291432145, 97.1892567145534, 96.53870358716173, 96.61229611041405, 96.60804020100502, 97.125, 97.12140175219024, 96.73366834170855, 97.37827715355805, 97.0, 96.61229611041405, 96.93174702567313, 97.57311761045425]\n",
      "[49.67320261437908, 54.93827160493827, 54.60317460317461, 55.172413793103445, 56.875, 59.75609756097562, 55.9748427672956, 55.855855855855864, 56.61538461538461, 54.878048780487795, 54.20560747663552, 55.06329113924051, 56.09756097560975, 57.49235474006117]\n"
     ]
    }
   ],
   "source": [
    "# tune parameters for RF\n",
    "\n",
    "i = 8\n",
    "train_path = './02-feature-extract-ori/features/ft_' + str(i) + '_train.csv'\n",
    "test_path = './02-feature-extract-ori/features/ft_' + str(i) + '_test.csv'\n",
    "df_train = pd.read_csv(train_path)\n",
    "df_test = pd.read_csv(test_path)\n",
    "        \n",
    "X_train = np.array(df_train.drop(['label'], axis=1).values.tolist())\n",
    "y_train = np.array(df_train['label'].values.tolist())\n",
    "X_test = np.array(df_test.drop(['label'], axis=1).values.tolist())\n",
    "y_test = np.array(df_test['label'].values.tolist())\n",
    "print(\"data_\" + str(i), \"training data size:\", len(y_train), \"test data size:\", len(y_test))\n",
    "\n",
    "# X_train_train, X_valid, y_train_train, y_valid = train_test_split(X_train, y_train, train_size = 0.75, random_state = 42)\n",
    "# print(len(X_train_train), len(X_valid), len(X_test))\n",
    "\n",
    "train_score = []\n",
    "test_score = []\n",
    "p = 5\n",
    "x = []\n",
    "while p <= 73:\n",
    "    pipe = RandomForestClassifier(random_state=42, max_features = p)\n",
    "    pipe.fit(X_train, y_train)\n",
    "\n",
    "    x.append(p)\n",
    "    y_train_pred = pipe.predict(X_train)\n",
    "    y_test_pred = pipe.predict(X_test)\n",
    "\n",
    "    train_score.append(f1(y_train, y_train_pred)*100)\n",
    "    test_score.append(f1(y_test, y_test_pred)*100)\n",
    "    p += 5\n",
    "\n",
    "print(train_score)\n",
    "print(test_score)"
   ]
  },
  {
   "cell_type": "code",
   "execution_count": 239,
   "metadata": {},
   "outputs": [
    {
     "data": {
      "image/png": "[encoded data removed]",
      "text/plain": [
       "<Figure size 432x288 with 1 Axes>"
      ]
     },
     "metadata": {
      "needs_background": "light"
     },
     "output_type": "display_data"
    }
   ],
   "source": [
    "import matplotlib.pyplot as plt\n",
    "plt.plot(x, test_score)\n",
    "plt.xticks(x)\n",
    "plt.ylabel('F1 Score on Test Data (%)')\n",
    "plt.xlabel('Max_features Parameter Value')\n",
    "plt.savefig('rf.pdf')\n",
    "plt.show()"
   ]
  },
  {
   "cell_type": "code",
   "execution_count": 127,
   "metadata": {},
   "outputs": [
    {
     "data": {
      "text/plain": [
       "(7659, 73)"
      ]
     },
     "execution_count": 127,
     "metadata": {},
     "output_type": "execute_result"
    }
   ],
   "source": [
    "X_train.shape"
   ]
  },
  {
   "cell_type": "code",
   "execution_count": 234,
   "metadata": {},
   "outputs": [
    {
     "data": {
      "text/plain": [
       "10.08289494659654"
      ]
     },
     "execution_count": 234,
     "metadata": {},
     "output_type": "execute_result"
    }
   ],
   "source": [
    "((59.75609756097562 - 49.67320261437908))"
   ]
  },
  {
   "cell_type": "code",
   "execution_count": null,
   "metadata": {},
   "outputs": [],
   "source": []
  }
 ],
 "metadata": {
  "kernelspec": {
   "display_name": "Python 3",
   "language": "python",
   "name": "python3"
  },
  "language_info": {
   "codemirror_mode": {
    "name": "ipython",
    "version": 3
   },
   "file_extension": ".py",
   "mimetype": "text/x-python",
   "name": "python",
   "nbconvert_exporter": "python",
   "pygments_lexer": "ipython3",
   "version": "3.7.4"
  }
 },
 "nbformat": 4,
 "nbformat_minor": 2
}
